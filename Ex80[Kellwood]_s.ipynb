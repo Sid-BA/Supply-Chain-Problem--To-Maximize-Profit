{
 "cells": [
  {
   "cell_type": "code",
   "execution_count": 25,
   "metadata": {},
   "outputs": [],
   "source": [
    "from gurobipy import *  # import the optimize solver Gurobi"
   ]
  },
  {
   "cell_type": "code",
   "execution_count": 26,
   "metadata": {},
   "outputs": [],
   "source": [
    "# indexing the plants and customers\n",
    "No_of_plants = 3 \n",
    "No_of_Customer = 4 \n",
    "m = Model()"
   ]
  },
  {
   "cell_type": "code",
   "execution_count": 27,
   "metadata": {},
   "outputs": [],
   "source": [
    "# Set the input Parameter: profit from each plant for each customer\n",
    "\n",
    "unit_profit_p1_percust = [69, 62, 69, 73]\n",
    "unit_profit_p2_percust = [66, 62, 56, 66]\n",
    "unit_profit_p3_percust = [60, 78, 66,79]\n",
    "demand = [4000, 3000, 3000, 3000]   # Demand for each customer\n",
    "plant_capacity = [3000, 5000, 5000]\n"
   ]
  },
  {
   "cell_type": "code",
   "execution_count": 28,
   "metadata": {},
   "outputs": [],
   "source": [
    "# Set the Variable list: Number of customer in each plant\n",
    "# Set the variable nx to integer number\n",
    "nx1 = [] \n",
    "for i in range(No_of_Customer):\n",
    "    nx1.append(m.addVar(vtype=GRB.INTEGER, name='nx1-{}'.format(i + 1)))\n",
    "\n",
    "nx2 = [] \n",
    "for i in range(No_of_Customer):\n",
    "    nx2.append(m.addVar(vtype=GRB.INTEGER, name='nx2-{}'.format(i + 1)))\n",
    "nx3 = [] \n",
    "for i in range(No_of_Customer):\n",
    "    nx3.append(m.addVar(vtype=GRB.INTEGER, name='nx3-{}'.format(i + 1)))"
   ]
  },
  {
   "cell_type": "code",
   "execution_count": 29,
   "metadata": {},
   "outputs": [],
   "source": [
    "# Set the Maximize Obijective: Net Profit\n",
    "m.setObjective(quicksum([unit_profit_p1_percust[i]*nx1[i] for i in range(len(nx1))]) \n",
    "               + quicksum([unit_profit_p2_percust[i]*nx2[i] for i in range(len(nx2))])\n",
    "              + quicksum([unit_profit_p3_percust[i]*nx3[i] for i in range(len(nx3))])\n",
    "                , GRB.MAXIMIZE)"
   ]
  },
  {
   "cell_type": "code",
   "execution_count": 30,
   "metadata": {},
   "outputs": [],
   "source": [
    "# Satisfy Demand\n",
    "c1 = []\n",
    "for i in range(len(nx1)):\n",
    "    c1.append(m.addConstr(nx1[i]+nx2[i]+nx3[i] == demand[i]))\n",
    "    \n",
    "#Satisfy capacity\n",
    "sumofUnits = [quicksum(nx1), quicksum(nx2), quicksum(nx3)]\n",
    "c2 = []\n",
    "for i in range(No_of_plants):\n",
    "    c2.append(m.addConstr(sumofUnits[i] <= plant_capacity[i]))\n",
    "          "
   ]
  },
  {
   "cell_type": "code",
   "execution_count": 31,
   "metadata": {},
   "outputs": [
    {
     "name": "stdout",
     "output_type": "stream",
     "text": [
      "Gurobi Optimizer version 9.1.2 build v9.1.2rc0 (win64)\n",
      "Thread count: 8 physical cores, 16 logical processors, using up to 16 threads\n",
      "Optimize a model with 7 rows, 12 columns and 24 nonzeros\n",
      "Model fingerprint: 0xa05b8b0d\n",
      "Variable types: 0 continuous, 12 integer (0 binary)\n",
      "Coefficient statistics:\n",
      "  Matrix range     [1e+00, 1e+00]\n",
      "  Objective range  [6e+01, 8e+01]\n",
      "  Bounds range     [0e+00, 0e+00]\n",
      "  RHS range        [3e+03, 5e+03]\n",
      "Found heuristic solution: objective 802000.00000\n",
      "Presolve time: 0.00s\n",
      "Presolved: 7 rows, 12 columns, 24 nonzeros\n",
      "Variable types: 0 continuous, 12 integer (0 binary)\n",
      "\n",
      "Root relaxation: objective 9.290000e+05, 5 iterations, 0.00 seconds\n",
      "\n",
      "    Nodes    |    Current Node    |     Objective Bounds      |     Work\n",
      " Expl Unexpl |  Obj  Depth IntInf | Incumbent    BestBd   Gap | It/Node Time\n",
      "\n",
      "*    0     0               0    929000.00000 929000.000  0.00%     -    0s\n",
      "\n",
      "Explored 0 nodes (5 simplex iterations) in 0.02 seconds\n",
      "Thread count was 16 (of 16 available processors)\n",
      "\n",
      "Solution count 2: 929000 802000 \n",
      "\n",
      "Optimal solution found (tolerance 1.00e-04)\n",
      "Best objective 9.290000000000e+05, best bound 9.290000000000e+05, gap 0.0000%\n"
     ]
    }
   ],
   "source": [
    "# Run the optimize solver\n",
    "m.optimize()"
   ]
  },
  {
   "cell_type": "code",
   "execution_count": 32,
   "metadata": {},
   "outputs": [
    {
     "name": "stdout",
     "output_type": "stream",
     "text": [
      "\n",
      "    Variable            X \n",
      "-------------------------\n",
      "       nx1-3         3000 \n",
      "       nx2-1         4000 \n",
      "       nx2-4         1000 \n",
      "       nx3-2         3000 \n",
      "       nx3-4         2000 \n"
     ]
    }
   ],
   "source": [
    "# Get the Optimal Solution for X\n",
    "m.printAttr('X')"
   ]
  },
  {
   "cell_type": "code",
   "execution_count": 33,
   "metadata": {},
   "outputs": [
    {
     "data": {
      "text/plain": [
       "929000.0"
      ]
     },
     "execution_count": 33,
     "metadata": {},
     "output_type": "execute_result"
    }
   ],
   "source": [
    "# Get the Optimal Objective Value\n",
    "m.ObjVal"
   ]
  },
  {
   "cell_type": "markdown",
   "metadata": {},
   "source": [
    "### --- Siddharth Sourav"
   ]
  },
  {
   "cell_type": "code",
   "execution_count": null,
   "metadata": {},
   "outputs": [],
   "source": []
  }
 ],
 "metadata": {
  "kernelspec": {
   "display_name": "Python 3",
   "language": "python",
   "name": "python3"
  },
  "language_info": {
   "codemirror_mode": {
    "name": "ipython",
    "version": 3
   },
   "file_extension": ".py",
   "mimetype": "text/x-python",
   "name": "python",
   "nbconvert_exporter": "python",
   "pygments_lexer": "ipython3",
   "version": "3.8.8"
  }
 },
 "nbformat": 4,
 "nbformat_minor": 4
}
